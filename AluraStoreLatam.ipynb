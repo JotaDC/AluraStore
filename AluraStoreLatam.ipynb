{
  "nbformat": 4,
  "nbformat_minor": 0,
  "metadata": {
    "colab": {
      "provenance": [],
      "include_colab_link": true
    },
    "kernelspec": {
      "name": "python3",
      "display_name": "Python 3"
    },
    "language_info": {
      "name": "python"
    }
  },
  "cells": [
    {
      "cell_type": "markdown",
      "metadata": {
        "id": "view-in-github",
        "colab_type": "text"
      },
      "source": [
        "<a href=\"https://colab.research.google.com/github/JotaDC/AluraStore/blob/main/AluraStoreLatam.ipynb\" target=\"_parent\"><img src=\"https://colab.research.google.com/assets/colab-badge.svg\" alt=\"Open In Colab\"/></a>"
      ]
    },
    {
      "cell_type": "markdown",
      "source": [
        "### Importación de datos\n",
        "\n"
      ],
      "metadata": {
        "id": "RhEdWd9YUR6H"
      }
    },
    {
      "cell_type": "code",
      "execution_count": null,
      "metadata": {
        "colab": {
          "base_uri": "https://localhost:8080/",
          "height": 379
        },
        "id": "T3EvaeQ_INIL",
        "outputId": "991cf6fe-3cce-4a5d-8bb4-d84ee200eb8e"
      },
      "outputs": [
        {
          "output_type": "execute_result",
          "data": {
            "text/plain": [
              "            Producto Categoría del Producto    Precio  Costo de envío  \\\n",
              "0  Asistente virtual           Electrónicos  164300.0          6900.0   \n",
              "1    Mesa de comedor                Muebles  192300.0          8400.0   \n",
              "2      Juego de mesa               Juguetes  209600.0         15900.0   \n",
              "3         Microondas      Electrodomésticos  757500.0         41000.0   \n",
              "4   Silla de oficina                Muebles  335200.0         20200.0   \n",
              "\n",
              "  Fecha de Compra         Vendedor Lugar de Compra  Calificación  \\\n",
              "0      16/01/2021      Pedro Gomez          Bogotá             4   \n",
              "1      18/05/2022  Beatriz Morales        Medellín             1   \n",
              "2      15/03/2021   Juan Fernandez       Cartagena             1   \n",
              "3      03/05/2022   Juan Fernandez            Cali             4   \n",
              "4      07/11/2020    Maria Alfonso        Medellín             5   \n",
              "\n",
              "       Método de pago  Cantidad de cuotas       lat       lon  \n",
              "0  Tarjeta de crédito                   8   4.60971 -74.08175  \n",
              "1  Tarjeta de crédito                   4   6.25184 -75.56359  \n",
              "2  Tarjeta de crédito                   1  10.39972 -75.51444  \n",
              "3               Nequi                   1   3.43722 -76.52250  \n",
              "4               Nequi                   1   6.25184 -75.56359  "
            ],
            "text/html": [
              "\n",
              "  <div id=\"df-0868e75c-9da5-4bb0-bed8-02a72afb4681\" class=\"colab-df-container\">\n",
              "    <div>\n",
              "<style scoped>\n",
              "    .dataframe tbody tr th:only-of-type {\n",
              "        vertical-align: middle;\n",
              "    }\n",
              "\n",
              "    .dataframe tbody tr th {\n",
              "        vertical-align: top;\n",
              "    }\n",
              "\n",
              "    .dataframe thead th {\n",
              "        text-align: right;\n",
              "    }\n",
              "</style>\n",
              "<table border=\"1\" class=\"dataframe\">\n",
              "  <thead>\n",
              "    <tr style=\"text-align: right;\">\n",
              "      <th></th>\n",
              "      <th>Producto</th>\n",
              "      <th>Categoría del Producto</th>\n",
              "      <th>Precio</th>\n",
              "      <th>Costo de envío</th>\n",
              "      <th>Fecha de Compra</th>\n",
              "      <th>Vendedor</th>\n",
              "      <th>Lugar de Compra</th>\n",
              "      <th>Calificación</th>\n",
              "      <th>Método de pago</th>\n",
              "      <th>Cantidad de cuotas</th>\n",
              "      <th>lat</th>\n",
              "      <th>lon</th>\n",
              "    </tr>\n",
              "  </thead>\n",
              "  <tbody>\n",
              "    <tr>\n",
              "      <th>0</th>\n",
              "      <td>Asistente virtual</td>\n",
              "      <td>Electrónicos</td>\n",
              "      <td>164300.0</td>\n",
              "      <td>6900.0</td>\n",
              "      <td>16/01/2021</td>\n",
              "      <td>Pedro Gomez</td>\n",
              "      <td>Bogotá</td>\n",
              "      <td>4</td>\n",
              "      <td>Tarjeta de crédito</td>\n",
              "      <td>8</td>\n",
              "      <td>4.60971</td>\n",
              "      <td>-74.08175</td>\n",
              "    </tr>\n",
              "    <tr>\n",
              "      <th>1</th>\n",
              "      <td>Mesa de comedor</td>\n",
              "      <td>Muebles</td>\n",
              "      <td>192300.0</td>\n",
              "      <td>8400.0</td>\n",
              "      <td>18/05/2022</td>\n",
              "      <td>Beatriz Morales</td>\n",
              "      <td>Medellín</td>\n",
              "      <td>1</td>\n",
              "      <td>Tarjeta de crédito</td>\n",
              "      <td>4</td>\n",
              "      <td>6.25184</td>\n",
              "      <td>-75.56359</td>\n",
              "    </tr>\n",
              "    <tr>\n",
              "      <th>2</th>\n",
              "      <td>Juego de mesa</td>\n",
              "      <td>Juguetes</td>\n",
              "      <td>209600.0</td>\n",
              "      <td>15900.0</td>\n",
              "      <td>15/03/2021</td>\n",
              "      <td>Juan Fernandez</td>\n",
              "      <td>Cartagena</td>\n",
              "      <td>1</td>\n",
              "      <td>Tarjeta de crédito</td>\n",
              "      <td>1</td>\n",
              "      <td>10.39972</td>\n",
              "      <td>-75.51444</td>\n",
              "    </tr>\n",
              "    <tr>\n",
              "      <th>3</th>\n",
              "      <td>Microondas</td>\n",
              "      <td>Electrodomésticos</td>\n",
              "      <td>757500.0</td>\n",
              "      <td>41000.0</td>\n",
              "      <td>03/05/2022</td>\n",
              "      <td>Juan Fernandez</td>\n",
              "      <td>Cali</td>\n",
              "      <td>4</td>\n",
              "      <td>Nequi</td>\n",
              "      <td>1</td>\n",
              "      <td>3.43722</td>\n",
              "      <td>-76.52250</td>\n",
              "    </tr>\n",
              "    <tr>\n",
              "      <th>4</th>\n",
              "      <td>Silla de oficina</td>\n",
              "      <td>Muebles</td>\n",
              "      <td>335200.0</td>\n",
              "      <td>20200.0</td>\n",
              "      <td>07/11/2020</td>\n",
              "      <td>Maria Alfonso</td>\n",
              "      <td>Medellín</td>\n",
              "      <td>5</td>\n",
              "      <td>Nequi</td>\n",
              "      <td>1</td>\n",
              "      <td>6.25184</td>\n",
              "      <td>-75.56359</td>\n",
              "    </tr>\n",
              "  </tbody>\n",
              "</table>\n",
              "</div>\n",
              "    <div class=\"colab-df-buttons\">\n",
              "\n",
              "  <div class=\"colab-df-container\">\n",
              "    <button class=\"colab-df-convert\" onclick=\"convertToInteractive('df-0868e75c-9da5-4bb0-bed8-02a72afb4681')\"\n",
              "            title=\"Convert this dataframe to an interactive table.\"\n",
              "            style=\"display:none;\">\n",
              "\n",
              "  <svg xmlns=\"http://www.w3.org/2000/svg\" height=\"24px\" viewBox=\"0 -960 960 960\">\n",
              "    <path d=\"M120-120v-720h720v720H120Zm60-500h600v-160H180v160Zm220 220h160v-160H400v160Zm0 220h160v-160H400v160ZM180-400h160v-160H180v160Zm440 0h160v-160H620v160ZM180-180h160v-160H180v160Zm440 0h160v-160H620v160Z\"/>\n",
              "  </svg>\n",
              "    </button>\n",
              "\n",
              "  <style>\n",
              "    .colab-df-container {\n",
              "      display:flex;\n",
              "      gap: 12px;\n",
              "    }\n",
              "\n",
              "    .colab-df-convert {\n",
              "      background-color: #E8F0FE;\n",
              "      border: none;\n",
              "      border-radius: 50%;\n",
              "      cursor: pointer;\n",
              "      display: none;\n",
              "      fill: #1967D2;\n",
              "      height: 32px;\n",
              "      padding: 0 0 0 0;\n",
              "      width: 32px;\n",
              "    }\n",
              "\n",
              "    .colab-df-convert:hover {\n",
              "      background-color: #E2EBFA;\n",
              "      box-shadow: 0px 1px 2px rgba(60, 64, 67, 0.3), 0px 1px 3px 1px rgba(60, 64, 67, 0.15);\n",
              "      fill: #174EA6;\n",
              "    }\n",
              "\n",
              "    .colab-df-buttons div {\n",
              "      margin-bottom: 4px;\n",
              "    }\n",
              "\n",
              "    [theme=dark] .colab-df-convert {\n",
              "      background-color: #3B4455;\n",
              "      fill: #D2E3FC;\n",
              "    }\n",
              "\n",
              "    [theme=dark] .colab-df-convert:hover {\n",
              "      background-color: #434B5C;\n",
              "      box-shadow: 0px 1px 3px 1px rgba(0, 0, 0, 0.15);\n",
              "      filter: drop-shadow(0px 1px 2px rgba(0, 0, 0, 0.3));\n",
              "      fill: #FFFFFF;\n",
              "    }\n",
              "  </style>\n",
              "\n",
              "    <script>\n",
              "      const buttonEl =\n",
              "        document.querySelector('#df-0868e75c-9da5-4bb0-bed8-02a72afb4681 button.colab-df-convert');\n",
              "      buttonEl.style.display =\n",
              "        google.colab.kernel.accessAllowed ? 'block' : 'none';\n",
              "\n",
              "      async function convertToInteractive(key) {\n",
              "        const element = document.querySelector('#df-0868e75c-9da5-4bb0-bed8-02a72afb4681');\n",
              "        const dataTable =\n",
              "          await google.colab.kernel.invokeFunction('convertToInteractive',\n",
              "                                                    [key], {});\n",
              "        if (!dataTable) return;\n",
              "\n",
              "        const docLinkHtml = 'Like what you see? Visit the ' +\n",
              "          '<a target=\"_blank\" href=https://colab.research.google.com/notebooks/data_table.ipynb>data table notebook</a>'\n",
              "          + ' to learn more about interactive tables.';\n",
              "        element.innerHTML = '';\n",
              "        dataTable['output_type'] = 'display_data';\n",
              "        await google.colab.output.renderOutput(dataTable, element);\n",
              "        const docLink = document.createElement('div');\n",
              "        docLink.innerHTML = docLinkHtml;\n",
              "        element.appendChild(docLink);\n",
              "      }\n",
              "    </script>\n",
              "  </div>\n",
              "\n",
              "\n",
              "    <div id=\"df-18000afc-647a-4fc5-8957-c11f355db4fd\">\n",
              "      <button class=\"colab-df-quickchart\" onclick=\"quickchart('df-18000afc-647a-4fc5-8957-c11f355db4fd')\"\n",
              "                title=\"Suggest charts\"\n",
              "                style=\"display:none;\">\n",
              "\n",
              "<svg xmlns=\"http://www.w3.org/2000/svg\" height=\"24px\"viewBox=\"0 0 24 24\"\n",
              "     width=\"24px\">\n",
              "    <g>\n",
              "        <path d=\"M19 3H5c-1.1 0-2 .9-2 2v14c0 1.1.9 2 2 2h14c1.1 0 2-.9 2-2V5c0-1.1-.9-2-2-2zM9 17H7v-7h2v7zm4 0h-2V7h2v10zm4 0h-2v-4h2v4z\"/>\n",
              "    </g>\n",
              "</svg>\n",
              "      </button>\n",
              "\n",
              "<style>\n",
              "  .colab-df-quickchart {\n",
              "      --bg-color: #E8F0FE;\n",
              "      --fill-color: #1967D2;\n",
              "      --hover-bg-color: #E2EBFA;\n",
              "      --hover-fill-color: #174EA6;\n",
              "      --disabled-fill-color: #AAA;\n",
              "      --disabled-bg-color: #DDD;\n",
              "  }\n",
              "\n",
              "  [theme=dark] .colab-df-quickchart {\n",
              "      --bg-color: #3B4455;\n",
              "      --fill-color: #D2E3FC;\n",
              "      --hover-bg-color: #434B5C;\n",
              "      --hover-fill-color: #FFFFFF;\n",
              "      --disabled-bg-color: #3B4455;\n",
              "      --disabled-fill-color: #666;\n",
              "  }\n",
              "\n",
              "  .colab-df-quickchart {\n",
              "    background-color: var(--bg-color);\n",
              "    border: none;\n",
              "    border-radius: 50%;\n",
              "    cursor: pointer;\n",
              "    display: none;\n",
              "    fill: var(--fill-color);\n",
              "    height: 32px;\n",
              "    padding: 0;\n",
              "    width: 32px;\n",
              "  }\n",
              "\n",
              "  .colab-df-quickchart:hover {\n",
              "    background-color: var(--hover-bg-color);\n",
              "    box-shadow: 0 1px 2px rgba(60, 64, 67, 0.3), 0 1px 3px 1px rgba(60, 64, 67, 0.15);\n",
              "    fill: var(--button-hover-fill-color);\n",
              "  }\n",
              "\n",
              "  .colab-df-quickchart-complete:disabled,\n",
              "  .colab-df-quickchart-complete:disabled:hover {\n",
              "    background-color: var(--disabled-bg-color);\n",
              "    fill: var(--disabled-fill-color);\n",
              "    box-shadow: none;\n",
              "  }\n",
              "\n",
              "  .colab-df-spinner {\n",
              "    border: 2px solid var(--fill-color);\n",
              "    border-color: transparent;\n",
              "    border-bottom-color: var(--fill-color);\n",
              "    animation:\n",
              "      spin 1s steps(1) infinite;\n",
              "  }\n",
              "\n",
              "  @keyframes spin {\n",
              "    0% {\n",
              "      border-color: transparent;\n",
              "      border-bottom-color: var(--fill-color);\n",
              "      border-left-color: var(--fill-color);\n",
              "    }\n",
              "    20% {\n",
              "      border-color: transparent;\n",
              "      border-left-color: var(--fill-color);\n",
              "      border-top-color: var(--fill-color);\n",
              "    }\n",
              "    30% {\n",
              "      border-color: transparent;\n",
              "      border-left-color: var(--fill-color);\n",
              "      border-top-color: var(--fill-color);\n",
              "      border-right-color: var(--fill-color);\n",
              "    }\n",
              "    40% {\n",
              "      border-color: transparent;\n",
              "      border-right-color: var(--fill-color);\n",
              "      border-top-color: var(--fill-color);\n",
              "    }\n",
              "    60% {\n",
              "      border-color: transparent;\n",
              "      border-right-color: var(--fill-color);\n",
              "    }\n",
              "    80% {\n",
              "      border-color: transparent;\n",
              "      border-right-color: var(--fill-color);\n",
              "      border-bottom-color: var(--fill-color);\n",
              "    }\n",
              "    90% {\n",
              "      border-color: transparent;\n",
              "      border-bottom-color: var(--fill-color);\n",
              "    }\n",
              "  }\n",
              "</style>\n",
              "\n",
              "      <script>\n",
              "        async function quickchart(key) {\n",
              "          const quickchartButtonEl =\n",
              "            document.querySelector('#' + key + ' button');\n",
              "          quickchartButtonEl.disabled = true;  // To prevent multiple clicks.\n",
              "          quickchartButtonEl.classList.add('colab-df-spinner');\n",
              "          try {\n",
              "            const charts = await google.colab.kernel.invokeFunction(\n",
              "                'suggestCharts', [key], {});\n",
              "          } catch (error) {\n",
              "            console.error('Error during call to suggestCharts:', error);\n",
              "          }\n",
              "          quickchartButtonEl.classList.remove('colab-df-spinner');\n",
              "          quickchartButtonEl.classList.add('colab-df-quickchart-complete');\n",
              "        }\n",
              "        (() => {\n",
              "          let quickchartButtonEl =\n",
              "            document.querySelector('#df-18000afc-647a-4fc5-8957-c11f355db4fd button');\n",
              "          quickchartButtonEl.style.display =\n",
              "            google.colab.kernel.accessAllowed ? 'block' : 'none';\n",
              "        })();\n",
              "      </script>\n",
              "    </div>\n",
              "\n",
              "    </div>\n",
              "  </div>\n"
            ],
            "application/vnd.google.colaboratory.intrinsic+json": {
              "type": "dataframe",
              "variable_name": "tienda1",
              "summary": "{\n  \"name\": \"tienda1\",\n  \"rows\": 2359,\n  \"fields\": [\n    {\n      \"column\": \"Producto\",\n      \"properties\": {\n        \"dtype\": \"category\",\n        \"num_unique_values\": 51,\n        \"samples\": [\n          \"Guitarra ac\\u00fastica\",\n          \"Bal\\u00f3n de baloncesto\",\n          \"Smartwatch\"\n        ],\n        \"semantic_type\": \"\",\n        \"description\": \"\"\n      }\n    },\n    {\n      \"column\": \"Categor\\u00eda del Producto\",\n      \"properties\": {\n        \"dtype\": \"category\",\n        \"num_unique_values\": 8,\n        \"samples\": [\n          \"Muebles\",\n          \"Deportes y diversi\\u00f3n\",\n          \"Electr\\u00f3nicos\"\n        ],\n        \"semantic_type\": \"\",\n        \"description\": \"\"\n      }\n    },\n    {\n      \"column\": \"Precio\",\n      \"properties\": {\n        \"dtype\": \"number\",\n        \"std\": 614686.7653873172,\n        \"min\": 7600.0,\n        \"max\": 2977000.0,\n        \"num_unique_values\": 1937,\n        \"samples\": [\n          2499400.0,\n          14800.0,\n          80500.0\n        ],\n        \"semantic_type\": \"\",\n        \"description\": \"\"\n      }\n    },\n    {\n      \"column\": \"Costo de env\\u00edo\",\n      \"properties\": {\n        \"dtype\": \"number\",\n        \"std\": 32860.0017825605,\n        \"min\": 0.0,\n        \"max\": 160800.0,\n        \"num_unique_values\": 753,\n        \"samples\": [\n          117800.0,\n          54700.0,\n          45600.0\n        ],\n        \"semantic_type\": \"\",\n        \"description\": \"\"\n      }\n    },\n    {\n      \"column\": \"Fecha de Compra\",\n      \"properties\": {\n        \"dtype\": \"object\",\n        \"num_unique_values\": 1018,\n        \"samples\": [\n          \"15/09/2022\",\n          \"03/06/2020\",\n          \"06/11/2021\"\n        ],\n        \"semantic_type\": \"\",\n        \"description\": \"\"\n      }\n    },\n    {\n      \"column\": \"Vendedor\",\n      \"properties\": {\n        \"dtype\": \"category\",\n        \"num_unique_values\": 14,\n        \"samples\": [\n          \"Juliana Costa\",\n          \"Mariana Herrera\",\n          \"Pedro Gomez\"\n        ],\n        \"semantic_type\": \"\",\n        \"description\": \"\"\n      }\n    },\n    {\n      \"column\": \"Lugar de Compra\",\n      \"properties\": {\n        \"dtype\": \"category\",\n        \"num_unique_values\": 19,\n        \"samples\": [\n          \"Bogot\\u00e1\",\n          \"Pereira\",\n          \"Neiva\"\n        ],\n        \"semantic_type\": \"\",\n        \"description\": \"\"\n      }\n    },\n    {\n      \"column\": \"Calificaci\\u00f3n\",\n      \"properties\": {\n        \"dtype\": \"number\",\n        \"std\": 1,\n        \"min\": 1,\n        \"max\": 5,\n        \"num_unique_values\": 5,\n        \"samples\": [\n          1,\n          2,\n          5\n        ],\n        \"semantic_type\": \"\",\n        \"description\": \"\"\n      }\n    },\n    {\n      \"column\": \"M\\u00e9todo de pago\",\n      \"properties\": {\n        \"dtype\": \"category\",\n        \"num_unique_values\": 4,\n        \"samples\": [\n          \"Nequi\",\n          \"Tarjeta de d\\u00e9bito\",\n          \"Tarjeta de cr\\u00e9dito\"\n        ],\n        \"semantic_type\": \"\",\n        \"description\": \"\"\n      }\n    },\n    {\n      \"column\": \"Cantidad de cuotas\",\n      \"properties\": {\n        \"dtype\": \"number\",\n        \"std\": 2,\n        \"min\": 1,\n        \"max\": 24,\n        \"num_unique_values\": 15,\n        \"samples\": [\n          7,\n          14,\n          8\n        ],\n        \"semantic_type\": \"\",\n        \"description\": \"\"\n      }\n    },\n    {\n      \"column\": \"lat\",\n      \"properties\": {\n        \"dtype\": \"number\",\n        \"std\": 2.2874452492678627,\n        \"min\": -4.21528,\n        \"max\": 11.54444,\n        \"num_unique_values\": 19,\n        \"samples\": [\n          4.60971,\n          4.81333,\n          2.9273\n        ],\n        \"semantic_type\": \"\",\n        \"description\": \"\"\n      }\n    },\n    {\n      \"column\": \"lon\",\n      \"properties\": {\n        \"dtype\": \"number\",\n        \"std\": 1.2178272727088486,\n        \"min\": -77.28111,\n        \"max\": -67.9239,\n        \"num_unique_values\": 19,\n        \"samples\": [\n          -74.08175,\n          -75.69611,\n          -75.28189\n        ],\n        \"semantic_type\": \"\",\n        \"description\": \"\"\n      }\n    }\n  ]\n}"
            }
          },
          "metadata": {},
          "execution_count": 6
        }
      ],
      "source": [
        "import pandas as pd\n",
        "\n",
        "url = \"https://raw.githubusercontent.com/alura-es-cursos/challenge1-data-science-latam/refs/heads/main/base-de-datos-challenge1-latam/tienda_1%20.csv\"\n",
        "url2 = \"https://raw.githubusercontent.com/alura-es-cursos/challenge1-data-science-latam/refs/heads/main/base-de-datos-challenge1-latam/tienda_2.csv\"\n",
        "url3 = \"https://raw.githubusercontent.com/alura-es-cursos/challenge1-data-science-latam/refs/heads/main/base-de-datos-challenge1-latam/tienda_3.csv\"\n",
        "url4 = \"https://raw.githubusercontent.com/alura-es-cursos/challenge1-data-science-latam/refs/heads/main/base-de-datos-challenge1-latam/tienda_4.csv\"\n",
        "\n",
        "tienda1 = pd.read_csv(url)\n",
        "tienda2 = pd.read_csv(url2)\n",
        "tienda3 = pd.read_csv(url3)\n",
        "tienda4 = pd.read_csv(url4)\n",
        "\n",
        "tienda1.head()"
      ]
    },
    {
      "cell_type": "markdown",
      "source": [
        "#1. Análisis de facturación\n",
        "\n"
      ],
      "metadata": {
        "id": "X62IW3KFUIYm"
      }
    },
    {
      "cell_type": "code",
      "source": [
        "#Crea lista de precios de los productos vendidos de cada tienda\n",
        "list_facturacion_tienda1=list(tienda1['Precio'])\n",
        "list_facturacion_tienda2=list(tienda2['Precio'])\n",
        "list_facturacion_tienda3=list(tienda3['Precio'])\n",
        "list_facturacion_tienda4=list(tienda4['Precio'])\n",
        "#Realiza la suma e los precios de los productos vendidos de cada tienda\n",
        "facturacion_total_tienda1=sum(list_facturacion_tienda1)\n",
        "facturacion_total_tienda2=sum(list_facturacion_tienda2)\n",
        "facturacion_total_tienda3=sum(list_facturacion_tienda3)\n",
        "facturacion_total_tienda4=sum(list_facturacion_tienda4)\n",
        "#Muestra la faturacion total por cada tienda\n",
        "print(f\"La facturacion total de la tienda 1 es de {facturacion_total_tienda1:,.2f} \")\n",
        "print(f\"La facturacion total de la tienda 2 es de {facturacion_total_tienda2:,.2f} \")\n",
        "print(f\"La facturacion total de la tienda 3 es de {facturacion_total_tienda3:,.2f} \")\n",
        "print(f\"La facturacion total de la tienda 4 es de {facturacion_total_tienda4:,.2f} \")"
      ],
      "metadata": {
        "id": "xykobSftV64I",
        "colab": {
          "base_uri": "https://localhost:8080/"
        },
        "outputId": "ac699de3-e781-4572-adc5-55deaa71573d"
      },
      "execution_count": null,
      "outputs": [
        {
          "output_type": "stream",
          "name": "stdout",
          "text": [
            "La facturacion total de la tienda 1 es de 1,150,880,400.00 \n",
            "La facturacion total de la tienda 2 es de 1,116,343,500.00 \n",
            "La facturacion total de la tienda 3 es de 1,098,019,600.00 \n",
            "La facturacion total de la tienda 4 es de 1,038,375,700.00 \n"
          ]
        }
      ]
    },
    {
      "cell_type": "code",
      "source": [],
      "metadata": {
        "id": "KDyr8E71V3m-"
      },
      "execution_count": null,
      "outputs": []
    },
    {
      "cell_type": "markdown",
      "source": [
        "# 2. Ventas por categoría"
      ],
      "metadata": {
        "id": "2V_vcAPzWZmR"
      }
    },
    {
      "cell_type": "code",
      "source": [
        "#Genera lista de todas las categorias vendidas\n",
        "list_ventas_por_categoria_tienda1=list(tienda1['Categoría del Producto'])\n",
        "list_ventas_por_categoria_tienda2=list(tienda2['Categoría del Producto'])\n",
        "list_ventas_por_categoria_tienda3=list(tienda3['Categoría del Producto'])\n",
        "list_ventas_por_categoria_tienda4=list(tienda4['Categoría del Producto'])\n",
        "#Genera lista unica de categorias vendidas (sin repetidos)\n",
        "unicos_tienda1=set(list_ventas_por_categoria_tienda1)\n",
        "unicos_tienda2=set(list_ventas_por_categoria_tienda2)\n",
        "unicos_tienda3=set(list_ventas_por_categoria_tienda3)\n",
        "unicos_tienda4=set(list_ventas_por_categoria_tienda4)\n",
        "\n",
        "# Crea diccionario con la categoria y la cantidad de repeticiones por cada tienda\n",
        "# Tienda1\n",
        "conteo_categorias = {}\n",
        "for categoria in unicos_tienda1:\n",
        "  cantidad=list_ventas_por_categoria_tienda1.count(categoria)\n",
        "  conteo_categorias[categoria] = cantidad\n",
        "for categoria, conteo in conteo_categorias.items():\n",
        "    print(f\"Tienda1 -> La categoría '{categoria}' aparece {conteo} veces.\")\n",
        "\n",
        "#Tienda2\n",
        "conteo_categorias = {}\n",
        "for categoria in unicos_tienda2:\n",
        "  cantidad=list_ventas_por_categoria_tienda2.count(categoria)\n",
        "  conteo_categorias[categoria] = cantidad\n",
        "for categoria, conteo in conteo_categorias.items():\n",
        "    print(f\"Tienda2 -> La categoría '{categoria}' aparece {conteo} veces.\")\n",
        "\n",
        "#Tienda3\n",
        "conteo_categorias = {}\n",
        "for categoria in unicos_tienda3:\n",
        "  cantidad=list_ventas_por_categoria_tienda3.count(categoria)\n",
        "  conteo_categorias[categoria] = cantidad\n",
        "for categoria, conteo in conteo_categorias.items():\n",
        "    print(f\"Tienda3 -> La categoría '{categoria}' aparece {conteo} veces.\")\n",
        "\n",
        "#Tienda4\n",
        "conteo_categorias = {}\n",
        "for categoria in unicos_tienda4:\n",
        "  cantidad=list_ventas_por_categoria_tienda4.count(categoria)\n",
        "  conteo_categorias[categoria] = cantidad\n",
        "for categoria, conteo in conteo_categorias.items():\n",
        "    print(f\"Tienda4 -> La categoría '{categoria}' aparece {conteo} veces.\")"
      ],
      "metadata": {
        "id": "A34YupIuYhfF",
        "colab": {
          "base_uri": "https://localhost:8080/"
        },
        "outputId": "02032e60-d922-4fca-f71c-58ee05631ad7"
      },
      "execution_count": null,
      "outputs": [
        {
          "output_type": "stream",
          "name": "stdout",
          "text": [
            "Tienda1 -> La categoría 'Electrónicos' aparece 448 veces.\n",
            "Tienda1 -> La categoría 'Artículos para el hogar' aparece 171 veces.\n",
            "Tienda1 -> La categoría 'Deportes y diversión' aparece 284 veces.\n",
            "Tienda1 -> La categoría 'Instrumentos musicales' aparece 182 veces.\n",
            "Tienda1 -> La categoría 'Juguetes' aparece 324 veces.\n",
            "Tienda1 -> La categoría 'Libros' aparece 173 veces.\n",
            "Tienda1 -> La categoría 'Electrodomésticos' aparece 312 veces.\n",
            "Tienda1 -> La categoría 'Muebles' aparece 465 veces.\n",
            "Tienda2 -> La categoría 'Electrónicos' aparece 422 veces.\n",
            "Tienda2 -> La categoría 'Artículos para el hogar' aparece 181 veces.\n",
            "Tienda2 -> La categoría 'Deportes y diversión' aparece 275 veces.\n",
            "Tienda2 -> La categoría 'Instrumentos musicales' aparece 224 veces.\n",
            "Tienda2 -> La categoría 'Juguetes' aparece 313 veces.\n",
            "Tienda2 -> La categoría 'Libros' aparece 197 veces.\n",
            "Tienda2 -> La categoría 'Electrodomésticos' aparece 305 veces.\n",
            "Tienda2 -> La categoría 'Muebles' aparece 442 veces.\n",
            "Tienda3 -> La categoría 'Electrónicos' aparece 451 veces.\n",
            "Tienda3 -> La categoría 'Deportes y diversión' aparece 277 veces.\n",
            "Tienda3 -> La categoría 'Artículos para el hogar' aparece 177 veces.\n",
            "Tienda3 -> La categoría 'Instrumentos musicales' aparece 177 veces.\n",
            "Tienda3 -> La categoría 'Juguetes' aparece 315 veces.\n",
            "Tienda3 -> La categoría 'Libros' aparece 185 veces.\n",
            "Tienda3 -> La categoría 'Electrodomésticos' aparece 278 veces.\n",
            "Tienda3 -> La categoría 'Muebles' aparece 499 veces.\n",
            "Tienda4 -> La categoría 'Electrónicos' aparece 451 veces.\n",
            "Tienda4 -> La categoría 'Deportes y diversión' aparece 277 veces.\n",
            "Tienda4 -> La categoría 'Artículos para el hogar' aparece 201 veces.\n",
            "Tienda4 -> La categoría 'Instrumentos musicales' aparece 170 veces.\n",
            "Tienda4 -> La categoría 'Juguetes' aparece 338 veces.\n",
            "Tienda4 -> La categoría 'Libros' aparece 187 veces.\n",
            "Tienda4 -> La categoría 'Electrodomésticos' aparece 254 veces.\n",
            "Tienda4 -> La categoría 'Muebles' aparece 480 veces.\n"
          ]
        }
      ]
    },
    {
      "cell_type": "code",
      "source": [],
      "metadata": {
        "id": "yZR6cOjXYSk1"
      },
      "execution_count": null,
      "outputs": []
    },
    {
      "cell_type": "markdown",
      "source": [
        "# 3. Calificación promedio de la tienda\n"
      ],
      "metadata": {
        "id": "Rq6tU_xSY3jk"
      }
    },
    {
      "cell_type": "code",
      "source": [
        "#Genera lista con las calificaciones de cada tienda\n",
        "lista_calificaciones_tienda1=list(tienda1['Calificación'])\n",
        "lista_calificaciones_tienda2=list(tienda2['Calificación'])\n",
        "lista_calificaciones_tienda3=list(tienda3['Calificación'])\n",
        "lista_calificaciones_tienda4=list(tienda4['Calificación'])\n",
        "#Suma las calificaciones de cada tienda\n",
        "suma_calificaciones_tienda1=sum(lista_calificaciones_tienda1)\n",
        "suma_calificaciones_tienda2=sum(lista_calificaciones_tienda2)\n",
        "suma_calificaciones_tienda3=sum(lista_calificaciones_tienda3)\n",
        "suma_calificaciones_tienda4=sum(lista_calificaciones_tienda4)\n",
        "#Cuenta la cantidad de elementos de cada lista\n",
        "cantidad_calificaciones_tienda1=len(lista_calificaciones_tienda1)\n",
        "cantidad_calificaciones_tienda2=len(lista_calificaciones_tienda2)\n",
        "cantidad_calificaciones_tienda3=len(lista_calificaciones_tienda3)\n",
        "cantidad_calificaciones_tienda4=len(lista_calificaciones_tienda4)\n",
        "#Realiza promedio de las calificaciones de cada tienda\n",
        "promedio_calificaciones_tienda1=suma_calificaciones_tienda1/cantidad_calificaciones_tienda1\n",
        "promedio_calificaciones_tienda2=suma_calificaciones_tienda2/cantidad_calificaciones_tienda2\n",
        "promedio_calificaciones_tienda3=suma_calificaciones_tienda3/cantidad_calificaciones_tienda3\n",
        "promedio_calificaciones_tienda4=suma_calificaciones_tienda4/cantidad_calificaciones_tienda4\n",
        "#Imprime el promedio de calificacion por tienda\n",
        "print(f\"La calificacion promedio de la tienda 1 es de {promedio_calificaciones_tienda1:,.2f} \")\n",
        "print(f\"La calificacion promedio de la tienda 2 es de {promedio_calificaciones_tienda2:,.2f} \")\n",
        "print(f\"La calificacion promedio de la tienda 3 es de {promedio_calificaciones_tienda3:,.2f} \")\n",
        "print(f\"La calificacion promedio de la tienda 4 es de {promedio_calificaciones_tienda4:,.2f} \")"
      ],
      "metadata": {
        "id": "bh3jjjJwY5MU",
        "colab": {
          "base_uri": "https://localhost:8080/"
        },
        "outputId": "8c4130d2-0f87-411a-fc20-f9cd369fbcc5"
      },
      "execution_count": null,
      "outputs": [
        {
          "output_type": "stream",
          "name": "stdout",
          "text": [
            "La calificacion promedio de la tienda 1 es de 3.98 \n",
            "La calificacion promedio de la tienda 2 es de 4.04 \n",
            "La calificacion promedio de la tienda 3 es de 4.05 \n",
            "La calificacion promedio de la tienda 4 es de 4.00 \n"
          ]
        }
      ]
    },
    {
      "cell_type": "code",
      "source": [],
      "metadata": {
        "id": "I0KkjPoTY88F"
      },
      "execution_count": null,
      "outputs": []
    },
    {
      "cell_type": "markdown",
      "source": [
        "# 4. Productos más y menos vendidos"
      ],
      "metadata": {
        "id": "DmNp1KPBZCm-"
      }
    },
    {
      "cell_type": "code",
      "source": [
        "#Genera lista de todas las productos vendidas\n",
        "lista_productos_vendidos_tienda1=list(tienda1['Producto'])\n",
        "lista_productos_vendidos_tienda2=list(tienda2['Producto'])\n",
        "lista_productos_vendidos_tienda3=list(tienda3['Producto'])\n",
        "lista_productos_vendidos_tienda4=list(tienda4['Producto'])\n",
        "#Lista con no repetidos\n",
        "unicos_productos_tienda1=set(lista_productos_vendidos_tienda1)\n",
        "unicos_productos_tienda2=set(lista_productos_vendidos_tienda2)\n",
        "unicos_productos_tienda3=set(lista_productos_vendidos_tienda3)\n",
        "unicos_productos_tienda4=set(lista_productos_vendidos_tienda4)\n",
        "\n",
        "productos_tienda1={}\n",
        "for producto in unicos_productos_tienda1:\n",
        "  cantidad=lista_productos_vendidos_tienda1.count(producto)\n",
        "  productos_tienda1[producto] = cantidad\n",
        "productos_tienda2={}\n",
        "for producto in unicos_productos_tienda2:\n",
        "  cantidad=lista_productos_vendidos_tienda2.count(producto)\n",
        "  productos_tienda2[producto] = cantidad\n",
        "\n",
        "productos_tienda3={}\n",
        "for producto in unicos_productos_tienda3:\n",
        "  cantidad=lista_productos_vendidos_tienda3.count(producto)\n",
        "  productos_tienda3[producto] = cantidad\n",
        "\n",
        "productos_tienda4={}\n",
        "for producto in unicos_productos_tienda4:\n",
        "  cantidad=lista_productos_vendidos_tienda4.count(producto)\n",
        "  productos_tienda4[producto] = cantidad\n",
        "\n",
        "# obtener el producto y cantidad del mas vendido cada lista\n",
        "producto_mas_vendido_tienda1 = max(productos_tienda1, key=productos_tienda1.get)\n",
        "producto_mas_vendido_tienda2 = max(productos_tienda2, key=productos_tienda2.get)\n",
        "producto_mas_vendido_tienda3 = max(productos_tienda3, key=productos_tienda3.get)\n",
        "producto_mas_vendido_tienda4 = max(productos_tienda4, key=productos_tienda4.get)\n",
        "cantidad_mas_vendido_tienda1 = productos_tienda1[producto_mas_vendido_tienda1]\n",
        "cantidad_mas_vendido_tienda2 = productos_tienda2[producto_mas_vendido_tienda2]\n",
        "cantidad_mas_vendido_tienda3 = productos_tienda3[producto_mas_vendido_tienda3]\n",
        "cantidad_mas_vendido_tienda4 = productos_tienda4[producto_mas_vendido_tienda4]\n",
        "\n",
        "# imprimir el resultado\n",
        "print(f\"El producto más vendido en la tienda 1 es '{producto_mas_vendido_tienda1}' con {cantidad_mas_vendido_tienda1} unidades vendidas.\")\n",
        "print(f\"El producto más vendido en la tienda 2 es '{producto_mas_vendido_tienda2}' con {cantidad_mas_vendido_tienda2} unidades vendidas.\")\n",
        "print(f\"El producto más vendido en la tienda 3 es '{producto_mas_vendido_tienda3}' con {cantidad_mas_vendido_tienda3} unidades vendidas.\")\n",
        "print(f\"El producto más vendido en la tienda 4 es '{producto_mas_vendido_tienda4}' con {cantidad_mas_vendido_tienda4} unidades vendidas.\")\n",
        "\n"
      ],
      "metadata": {
        "id": "qoyjqijQZHfF",
        "colab": {
          "base_uri": "https://localhost:8080/"
        },
        "outputId": "3f3f0253-8031-403e-c02d-ee09702751a0"
      },
      "execution_count": null,
      "outputs": [
        {
          "output_type": "stream",
          "name": "stdout",
          "text": [
            "El producto más vendido en la tienda 1 es 'TV LED UHD 4K' con 60 unidades vendidas.\n",
            "El producto más vendido en la tienda 2 es 'Iniciando en programación' con 65 unidades vendidas.\n",
            "El producto más vendido en la tienda 3 es 'Kit de bancas' con 57 unidades vendidas.\n",
            "El producto más vendido en la tienda 4 es 'Cama box' con 62 unidades vendidas.\n"
          ]
        }
      ]
    },
    {
      "cell_type": "code",
      "source": [],
      "metadata": {
        "id": "0Sw3sd4IZIGW"
      },
      "execution_count": null,
      "outputs": []
    },
    {
      "cell_type": "markdown",
      "source": [
        "# 5. Envío promedio por tienda"
      ],
      "metadata": {
        "id": "Fl0cGi3bZKqU"
      }
    },
    {
      "cell_type": "code",
      "source": [
        "# Genera lista con los costos de envío de cada tienda\n",
        "lista_envios_tienda1 = list(tienda1['Costo de envío'])\n",
        "lista_envios_tienda2 = list(tienda2['Costo de envío'])\n",
        "lista_envios_tienda3 = list(tienda3['Costo de envío'])\n",
        "lista_envios_tienda4 = list(tienda4['Costo de envío'])\n",
        "\n",
        "# Suma los costos de envío de cada tienda\n",
        "suma_envios_tienda1 = sum(lista_envios_tienda1)\n",
        "suma_envios_tienda2 = sum(lista_envios_tienda2)\n",
        "suma_envios_tienda3 = sum(lista_envios_tienda3)\n",
        "suma_envios_tienda4 = sum(lista_envios_tienda4)\n",
        "\n",
        "# Cuenta la cantidad de elementos de cada lista\n",
        "cantidad_envios_tienda1 = len(lista_envios_tienda1)\n",
        "cantidad_envios_tienda2 = len(lista_envios_tienda2)\n",
        "cantidad_envios_tienda3 = len(lista_envios_tienda3)\n",
        "cantidad_envios_tienda4 = len(lista_envios_tienda4)\n",
        "\n",
        "# Realiza promedio de los costos de envío de cada tienda\n",
        "promedio_envios_tienda1 = suma_envios_tienda1 / cantidad_envios_tienda1\n",
        "promedio_envios_tienda2 = suma_envios_tienda2 / cantidad_envios_tienda2\n",
        "promedio_envios_tienda3 = suma_envios_tienda3 / cantidad_envios_tienda3\n",
        "promedio_envios_tienda4 = suma_envios_tienda4 / cantidad_envios_tienda4\n",
        "\n",
        "# Imprime el promedio de envío por tienda\n",
        "print(f\"El costo de envío promedio de la tienda 1 es de {promedio_envios_tienda1:,.2f}\")\n",
        "print(f\"El costo de envío promedio de la tienda 2 es de {promedio_envios_tienda2:,.2f}\")\n",
        "print(f\"El costo de envío promedio de la tienda 3 es de {promedio_envios_tienda3:,.2f}\")\n",
        "print(f\"El costo de envío promedio de la tienda 4 es de {promedio_envios_tienda4:,.2f}\")\n",
        "\n"
      ],
      "metadata": {
        "id": "S2JeaCykZNy9",
        "colab": {
          "base_uri": "https://localhost:8080/"
        },
        "outputId": "98cf5324-0afd-4542-f233-1a96b4f2a8d1"
      },
      "execution_count": null,
      "outputs": [
        {
          "output_type": "stream",
          "name": "stdout",
          "text": [
            "El costo de envío promedio de la tienda 1 es de 26,018.61\n",
            "El costo de envío promedio de la tienda 2 es de 25,216.24\n",
            "El costo de envío promedio de la tienda 3 es de 24,805.68\n",
            "El costo de envío promedio de la tienda 4 es de 23,459.46\n"
          ]
        }
      ]
    },
    {
      "cell_type": "code",
      "source": [],
      "metadata": {
        "id": "0tSdCie9ZQlt"
      },
      "execution_count": null,
      "outputs": []
    }
  ]
}